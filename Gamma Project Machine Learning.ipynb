{
 "cells": [
  {
   "cell_type": "code",
   "execution_count": 55,
   "id": "e7eaf88c",
   "metadata": {},
   "outputs": [],
   "source": [
    "import pandas as pd\n",
    "import numpy as np\n",
    "import yfinance as yf"
   ]
  },
  {
   "cell_type": "code",
   "execution_count": 56,
   "id": "199f9cee",
   "metadata": {},
   "outputs": [],
   "source": [
    "gamma_dix_df = pd.read_csv(\"GammaDixExposure.csv\", parse_dates=True, infer_datetime_format=True)"
   ]
  },
  {
   "cell_type": "code",
   "execution_count": 57,
   "id": "89e3c0c4",
   "metadata": {},
   "outputs": [
    {
     "data": {
      "text/html": [
       "<div>\n",
       "<style scoped>\n",
       "    .dataframe tbody tr th:only-of-type {\n",
       "        vertical-align: middle;\n",
       "    }\n",
       "\n",
       "    .dataframe tbody tr th {\n",
       "        vertical-align: top;\n",
       "    }\n",
       "\n",
       "    .dataframe thead th {\n",
       "        text-align: right;\n",
       "    }\n",
       "</style>\n",
       "<table border=\"1\" class=\"dataframe\">\n",
       "  <thead>\n",
       "    <tr style=\"text-align: right;\">\n",
       "      <th></th>\n",
       "      <th>date</th>\n",
       "      <th>price</th>\n",
       "      <th>dix</th>\n",
       "      <th>gex</th>\n",
       "    </tr>\n",
       "  </thead>\n",
       "  <tbody>\n",
       "    <tr>\n",
       "      <th>0</th>\n",
       "      <td>5/2/11</td>\n",
       "      <td>1361.219971</td>\n",
       "      <td>0.378842</td>\n",
       "      <td>1.897313e+09</td>\n",
       "    </tr>\n",
       "    <tr>\n",
       "      <th>1</th>\n",
       "      <td>5/3/11</td>\n",
       "      <td>1356.619995</td>\n",
       "      <td>0.383411</td>\n",
       "      <td>1.859731e+09</td>\n",
       "    </tr>\n",
       "    <tr>\n",
       "      <th>2</th>\n",
       "      <td>5/4/11</td>\n",
       "      <td>1347.319946</td>\n",
       "      <td>0.392122</td>\n",
       "      <td>1.717764e+09</td>\n",
       "    </tr>\n",
       "    <tr>\n",
       "      <th>3</th>\n",
       "      <td>5/5/11</td>\n",
       "      <td>1335.099976</td>\n",
       "      <td>0.405457</td>\n",
       "      <td>1.361864e+09</td>\n",
       "    </tr>\n",
       "    <tr>\n",
       "      <th>4</th>\n",
       "      <td>5/6/11</td>\n",
       "      <td>1340.199951</td>\n",
       "      <td>0.418649</td>\n",
       "      <td>1.490329e+09</td>\n",
       "    </tr>\n",
       "    <tr>\n",
       "      <th>...</th>\n",
       "      <td>...</td>\n",
       "      <td>...</td>\n",
       "      <td>...</td>\n",
       "      <td>...</td>\n",
       "    </tr>\n",
       "    <tr>\n",
       "      <th>2899</th>\n",
       "      <td>11/4/22</td>\n",
       "      <td>3770.550049</td>\n",
       "      <td>0.425303</td>\n",
       "      <td>5.863258e+08</td>\n",
       "    </tr>\n",
       "    <tr>\n",
       "      <th>2900</th>\n",
       "      <td>11/7/22</td>\n",
       "      <td>3806.800049</td>\n",
       "      <td>0.449861</td>\n",
       "      <td>1.164755e+09</td>\n",
       "    </tr>\n",
       "    <tr>\n",
       "      <th>2901</th>\n",
       "      <td>11/8/22</td>\n",
       "      <td>3828.110107</td>\n",
       "      <td>0.438960</td>\n",
       "      <td>1.395167e+09</td>\n",
       "    </tr>\n",
       "    <tr>\n",
       "      <th>2902</th>\n",
       "      <td>11/9/22</td>\n",
       "      <td>3748.570068</td>\n",
       "      <td>0.457835</td>\n",
       "      <td>4.817286e+07</td>\n",
       "    </tr>\n",
       "    <tr>\n",
       "      <th>2903</th>\n",
       "      <td>11/10/22</td>\n",
       "      <td>3956.370117</td>\n",
       "      <td>0.420308</td>\n",
       "      <td>3.748514e+09</td>\n",
       "    </tr>\n",
       "  </tbody>\n",
       "</table>\n",
       "<p>2904 rows × 4 columns</p>\n",
       "</div>"
      ],
      "text/plain": [
       "          date        price       dix           gex\n",
       "0       5/2/11  1361.219971  0.378842  1.897313e+09\n",
       "1       5/3/11  1356.619995  0.383411  1.859731e+09\n",
       "2       5/4/11  1347.319946  0.392122  1.717764e+09\n",
       "3       5/5/11  1335.099976  0.405457  1.361864e+09\n",
       "4       5/6/11  1340.199951  0.418649  1.490329e+09\n",
       "...        ...          ...       ...           ...\n",
       "2899   11/4/22  3770.550049  0.425303  5.863258e+08\n",
       "2900   11/7/22  3806.800049  0.449861  1.164755e+09\n",
       "2901   11/8/22  3828.110107  0.438960  1.395167e+09\n",
       "2902   11/9/22  3748.570068  0.457835  4.817286e+07\n",
       "2903  11/10/22  3956.370117  0.420308  3.748514e+09\n",
       "\n",
       "[2904 rows x 4 columns]"
      ]
     },
     "execution_count": 57,
     "metadata": {},
     "output_type": "execute_result"
    }
   ],
   "source": [
    "gamma_dix_df"
   ]
  },
  {
   "cell_type": "code",
   "execution_count": 58,
   "id": "8eb29541",
   "metadata": {},
   "outputs": [],
   "source": [
    "gamma_dix_df[\"SPX Change\"] = gamma_dix_df[\"price\"].pct_change().dropna()"
   ]
  },
  {
   "cell_type": "code",
   "execution_count": 59,
   "id": "5b5b4a9d",
   "metadata": {},
   "outputs": [
    {
     "data": {
      "text/html": [
       "<div>\n",
       "<style scoped>\n",
       "    .dataframe tbody tr th:only-of-type {\n",
       "        vertical-align: middle;\n",
       "    }\n",
       "\n",
       "    .dataframe tbody tr th {\n",
       "        vertical-align: top;\n",
       "    }\n",
       "\n",
       "    .dataframe thead th {\n",
       "        text-align: right;\n",
       "    }\n",
       "</style>\n",
       "<table border=\"1\" class=\"dataframe\">\n",
       "  <thead>\n",
       "    <tr style=\"text-align: right;\">\n",
       "      <th></th>\n",
       "      <th>date</th>\n",
       "      <th>price</th>\n",
       "      <th>dix</th>\n",
       "      <th>gex</th>\n",
       "      <th>SPX Change</th>\n",
       "    </tr>\n",
       "  </thead>\n",
       "  <tbody>\n",
       "    <tr>\n",
       "      <th>0</th>\n",
       "      <td>5/2/11</td>\n",
       "      <td>1361.219971</td>\n",
       "      <td>0.378842</td>\n",
       "      <td>1.897313e+09</td>\n",
       "      <td>NaN</td>\n",
       "    </tr>\n",
       "    <tr>\n",
       "      <th>1</th>\n",
       "      <td>5/3/11</td>\n",
       "      <td>1356.619995</td>\n",
       "      <td>0.383411</td>\n",
       "      <td>1.859731e+09</td>\n",
       "      <td>-0.003379</td>\n",
       "    </tr>\n",
       "    <tr>\n",
       "      <th>2</th>\n",
       "      <td>5/4/11</td>\n",
       "      <td>1347.319946</td>\n",
       "      <td>0.392122</td>\n",
       "      <td>1.717764e+09</td>\n",
       "      <td>-0.006855</td>\n",
       "    </tr>\n",
       "    <tr>\n",
       "      <th>3</th>\n",
       "      <td>5/5/11</td>\n",
       "      <td>1335.099976</td>\n",
       "      <td>0.405457</td>\n",
       "      <td>1.361864e+09</td>\n",
       "      <td>-0.009070</td>\n",
       "    </tr>\n",
       "    <tr>\n",
       "      <th>4</th>\n",
       "      <td>5/6/11</td>\n",
       "      <td>1340.199951</td>\n",
       "      <td>0.418649</td>\n",
       "      <td>1.490329e+09</td>\n",
       "      <td>0.003820</td>\n",
       "    </tr>\n",
       "    <tr>\n",
       "      <th>...</th>\n",
       "      <td>...</td>\n",
       "      <td>...</td>\n",
       "      <td>...</td>\n",
       "      <td>...</td>\n",
       "      <td>...</td>\n",
       "    </tr>\n",
       "    <tr>\n",
       "      <th>2899</th>\n",
       "      <td>11/4/22</td>\n",
       "      <td>3770.550049</td>\n",
       "      <td>0.425303</td>\n",
       "      <td>5.863258e+08</td>\n",
       "      <td>0.013619</td>\n",
       "    </tr>\n",
       "    <tr>\n",
       "      <th>2900</th>\n",
       "      <td>11/7/22</td>\n",
       "      <td>3806.800049</td>\n",
       "      <td>0.449861</td>\n",
       "      <td>1.164755e+09</td>\n",
       "      <td>0.009614</td>\n",
       "    </tr>\n",
       "    <tr>\n",
       "      <th>2901</th>\n",
       "      <td>11/8/22</td>\n",
       "      <td>3828.110107</td>\n",
       "      <td>0.438960</td>\n",
       "      <td>1.395167e+09</td>\n",
       "      <td>0.005598</td>\n",
       "    </tr>\n",
       "    <tr>\n",
       "      <th>2902</th>\n",
       "      <td>11/9/22</td>\n",
       "      <td>3748.570068</td>\n",
       "      <td>0.457835</td>\n",
       "      <td>4.817286e+07</td>\n",
       "      <td>-0.020778</td>\n",
       "    </tr>\n",
       "    <tr>\n",
       "      <th>2903</th>\n",
       "      <td>11/10/22</td>\n",
       "      <td>3956.370117</td>\n",
       "      <td>0.420308</td>\n",
       "      <td>3.748514e+09</td>\n",
       "      <td>0.055434</td>\n",
       "    </tr>\n",
       "  </tbody>\n",
       "</table>\n",
       "<p>2904 rows × 5 columns</p>\n",
       "</div>"
      ],
      "text/plain": [
       "          date        price       dix           gex  SPX Change\n",
       "0       5/2/11  1361.219971  0.378842  1.897313e+09         NaN\n",
       "1       5/3/11  1356.619995  0.383411  1.859731e+09   -0.003379\n",
       "2       5/4/11  1347.319946  0.392122  1.717764e+09   -0.006855\n",
       "3       5/5/11  1335.099976  0.405457  1.361864e+09   -0.009070\n",
       "4       5/6/11  1340.199951  0.418649  1.490329e+09    0.003820\n",
       "...        ...          ...       ...           ...         ...\n",
       "2899   11/4/22  3770.550049  0.425303  5.863258e+08    0.013619\n",
       "2900   11/7/22  3806.800049  0.449861  1.164755e+09    0.009614\n",
       "2901   11/8/22  3828.110107  0.438960  1.395167e+09    0.005598\n",
       "2902   11/9/22  3748.570068  0.457835  4.817286e+07   -0.020778\n",
       "2903  11/10/22  3956.370117  0.420308  3.748514e+09    0.055434\n",
       "\n",
       "[2904 rows x 5 columns]"
      ]
     },
     "execution_count": 59,
     "metadata": {},
     "output_type": "execute_result"
    }
   ],
   "source": [
    "gamma_dix_df"
   ]
  },
  {
   "cell_type": "code",
   "execution_count": 60,
   "id": "3432f4d3",
   "metadata": {},
   "outputs": [
    {
     "name": "stdout",
     "output_type": "stream",
     "text": [
      "[*********************100%***********************]  1 of 1 completed\n"
     ]
    }
   ],
   "source": [
    "vix_df = yf.download(tickers=\"^VIX\", start=\"2011-05-02\")"
   ]
  },
  {
   "cell_type": "code",
   "execution_count": 61,
   "id": "62b4f2f1",
   "metadata": {},
   "outputs": [],
   "source": [
    "previous_close = vix_df[\"Adj Close\"].shift()"
   ]
  },
  {
   "cell_type": "code",
   "execution_count": 62,
   "id": "90195afa",
   "metadata": {},
   "outputs": [],
   "source": [
    "vix_df[\"Vix Previous Close\"] = previous_close"
   ]
  },
  {
   "cell_type": "code",
   "execution_count": 63,
   "id": "29bb908a",
   "metadata": {},
   "outputs": [],
   "source": [
    "vix_df.drop(columns=[\"Adj Close\", \"Volume\", \"High\", \"Low\", \"Open\"], inplace=True)"
   ]
  },
  {
   "cell_type": "code",
   "execution_count": 64,
   "id": "e94abd2e",
   "metadata": {},
   "outputs": [
    {
     "data": {
      "text/html": [
       "<div>\n",
       "<style scoped>\n",
       "    .dataframe tbody tr th:only-of-type {\n",
       "        vertical-align: middle;\n",
       "    }\n",
       "\n",
       "    .dataframe tbody tr th {\n",
       "        vertical-align: top;\n",
       "    }\n",
       "\n",
       "    .dataframe thead th {\n",
       "        text-align: right;\n",
       "    }\n",
       "</style>\n",
       "<table border=\"1\" class=\"dataframe\">\n",
       "  <thead>\n",
       "    <tr style=\"text-align: right;\">\n",
       "      <th></th>\n",
       "      <th>Close</th>\n",
       "      <th>Vix Previous Close</th>\n",
       "    </tr>\n",
       "    <tr>\n",
       "      <th>Date</th>\n",
       "      <th></th>\n",
       "      <th></th>\n",
       "    </tr>\n",
       "  </thead>\n",
       "  <tbody>\n",
       "    <tr>\n",
       "      <th>2011-05-02</th>\n",
       "      <td>15.990000</td>\n",
       "      <td>NaN</td>\n",
       "    </tr>\n",
       "    <tr>\n",
       "      <th>2011-05-03</th>\n",
       "      <td>16.700001</td>\n",
       "      <td>15.990000</td>\n",
       "    </tr>\n",
       "    <tr>\n",
       "      <th>2011-05-04</th>\n",
       "      <td>17.080000</td>\n",
       "      <td>16.700001</td>\n",
       "    </tr>\n",
       "    <tr>\n",
       "      <th>2011-05-05</th>\n",
       "      <td>18.200001</td>\n",
       "      <td>17.080000</td>\n",
       "    </tr>\n",
       "    <tr>\n",
       "      <th>2011-05-06</th>\n",
       "      <td>18.400000</td>\n",
       "      <td>18.200001</td>\n",
       "    </tr>\n",
       "    <tr>\n",
       "      <th>...</th>\n",
       "      <td>...</td>\n",
       "      <td>...</td>\n",
       "    </tr>\n",
       "    <tr>\n",
       "      <th>2022-11-07</th>\n",
       "      <td>24.350000</td>\n",
       "      <td>24.549999</td>\n",
       "    </tr>\n",
       "    <tr>\n",
       "      <th>2022-11-08</th>\n",
       "      <td>25.540001</td>\n",
       "      <td>24.350000</td>\n",
       "    </tr>\n",
       "    <tr>\n",
       "      <th>2022-11-09</th>\n",
       "      <td>26.090000</td>\n",
       "      <td>25.540001</td>\n",
       "    </tr>\n",
       "    <tr>\n",
       "      <th>2022-11-10</th>\n",
       "      <td>23.530001</td>\n",
       "      <td>26.090000</td>\n",
       "    </tr>\n",
       "    <tr>\n",
       "      <th>2022-11-11</th>\n",
       "      <td>22.670000</td>\n",
       "      <td>23.530001</td>\n",
       "    </tr>\n",
       "  </tbody>\n",
       "</table>\n",
       "<p>2905 rows × 2 columns</p>\n",
       "</div>"
      ],
      "text/plain": [
       "                Close  Vix Previous Close\n",
       "Date                                     \n",
       "2011-05-02  15.990000                 NaN\n",
       "2011-05-03  16.700001           15.990000\n",
       "2011-05-04  17.080000           16.700001\n",
       "2011-05-05  18.200001           17.080000\n",
       "2011-05-06  18.400000           18.200001\n",
       "...               ...                 ...\n",
       "2022-11-07  24.350000           24.549999\n",
       "2022-11-08  25.540001           24.350000\n",
       "2022-11-09  26.090000           25.540001\n",
       "2022-11-10  23.530001           26.090000\n",
       "2022-11-11  22.670000           23.530001\n",
       "\n",
       "[2905 rows x 2 columns]"
      ]
     },
     "execution_count": 64,
     "metadata": {},
     "output_type": "execute_result"
    }
   ],
   "source": [
    "vix_df"
   ]
  },
  {
   "cell_type": "code",
   "execution_count": 65,
   "id": "e641bfe7",
   "metadata": {},
   "outputs": [],
   "source": [
    "vix_rolling_average = vix_df[\"Close\"].rolling(21).mean()"
   ]
  },
  {
   "cell_type": "code",
   "execution_count": 66,
   "id": "8abf17dc",
   "metadata": {},
   "outputs": [],
   "source": [
    "vix_df[\"Vix 21 Moving Average\"] = vix_rolling_average"
   ]
  },
  {
   "cell_type": "code",
   "execution_count": 67,
   "id": "05364d67",
   "metadata": {},
   "outputs": [],
   "source": [
    "vix_df.drop(columns=[\"Close\"], inplace=True)"
   ]
  },
  {
   "cell_type": "code",
   "execution_count": 69,
   "id": "98e51838",
   "metadata": {},
   "outputs": [
    {
     "data": {
      "text/html": [
       "<div>\n",
       "<style scoped>\n",
       "    .dataframe tbody tr th:only-of-type {\n",
       "        vertical-align: middle;\n",
       "    }\n",
       "\n",
       "    .dataframe tbody tr th {\n",
       "        vertical-align: top;\n",
       "    }\n",
       "\n",
       "    .dataframe thead th {\n",
       "        text-align: right;\n",
       "    }\n",
       "</style>\n",
       "<table border=\"1\" class=\"dataframe\">\n",
       "  <thead>\n",
       "    <tr style=\"text-align: right;\">\n",
       "      <th></th>\n",
       "      <th>date</th>\n",
       "      <th>price</th>\n",
       "      <th>dix</th>\n",
       "      <th>gex</th>\n",
       "      <th>SPX Change</th>\n",
       "    </tr>\n",
       "  </thead>\n",
       "  <tbody>\n",
       "    <tr>\n",
       "      <th>0</th>\n",
       "      <td>5/2/11</td>\n",
       "      <td>1361.219971</td>\n",
       "      <td>0.378842</td>\n",
       "      <td>1.897313e+09</td>\n",
       "      <td>NaN</td>\n",
       "    </tr>\n",
       "    <tr>\n",
       "      <th>1</th>\n",
       "      <td>5/3/11</td>\n",
       "      <td>1356.619995</td>\n",
       "      <td>0.383411</td>\n",
       "      <td>1.859731e+09</td>\n",
       "      <td>-0.003379</td>\n",
       "    </tr>\n",
       "    <tr>\n",
       "      <th>2</th>\n",
       "      <td>5/4/11</td>\n",
       "      <td>1347.319946</td>\n",
       "      <td>0.392122</td>\n",
       "      <td>1.717764e+09</td>\n",
       "      <td>-0.006855</td>\n",
       "    </tr>\n",
       "    <tr>\n",
       "      <th>3</th>\n",
       "      <td>5/5/11</td>\n",
       "      <td>1335.099976</td>\n",
       "      <td>0.405457</td>\n",
       "      <td>1.361864e+09</td>\n",
       "      <td>-0.009070</td>\n",
       "    </tr>\n",
       "    <tr>\n",
       "      <th>4</th>\n",
       "      <td>5/6/11</td>\n",
       "      <td>1340.199951</td>\n",
       "      <td>0.418649</td>\n",
       "      <td>1.490329e+09</td>\n",
       "      <td>0.003820</td>\n",
       "    </tr>\n",
       "    <tr>\n",
       "      <th>...</th>\n",
       "      <td>...</td>\n",
       "      <td>...</td>\n",
       "      <td>...</td>\n",
       "      <td>...</td>\n",
       "      <td>...</td>\n",
       "    </tr>\n",
       "    <tr>\n",
       "      <th>2899</th>\n",
       "      <td>11/4/22</td>\n",
       "      <td>3770.550049</td>\n",
       "      <td>0.425303</td>\n",
       "      <td>5.863258e+08</td>\n",
       "      <td>0.013619</td>\n",
       "    </tr>\n",
       "    <tr>\n",
       "      <th>2900</th>\n",
       "      <td>11/7/22</td>\n",
       "      <td>3806.800049</td>\n",
       "      <td>0.449861</td>\n",
       "      <td>1.164755e+09</td>\n",
       "      <td>0.009614</td>\n",
       "    </tr>\n",
       "    <tr>\n",
       "      <th>2901</th>\n",
       "      <td>11/8/22</td>\n",
       "      <td>3828.110107</td>\n",
       "      <td>0.438960</td>\n",
       "      <td>1.395167e+09</td>\n",
       "      <td>0.005598</td>\n",
       "    </tr>\n",
       "    <tr>\n",
       "      <th>2902</th>\n",
       "      <td>11/9/22</td>\n",
       "      <td>3748.570068</td>\n",
       "      <td>0.457835</td>\n",
       "      <td>4.817286e+07</td>\n",
       "      <td>-0.020778</td>\n",
       "    </tr>\n",
       "    <tr>\n",
       "      <th>2903</th>\n",
       "      <td>11/10/22</td>\n",
       "      <td>3956.370117</td>\n",
       "      <td>0.420308</td>\n",
       "      <td>3.748514e+09</td>\n",
       "      <td>0.055434</td>\n",
       "    </tr>\n",
       "  </tbody>\n",
       "</table>\n",
       "<p>2904 rows × 5 columns</p>\n",
       "</div>"
      ],
      "text/plain": [
       "          date        price       dix           gex  SPX Change\n",
       "0       5/2/11  1361.219971  0.378842  1.897313e+09         NaN\n",
       "1       5/3/11  1356.619995  0.383411  1.859731e+09   -0.003379\n",
       "2       5/4/11  1347.319946  0.392122  1.717764e+09   -0.006855\n",
       "3       5/5/11  1335.099976  0.405457  1.361864e+09   -0.009070\n",
       "4       5/6/11  1340.199951  0.418649  1.490329e+09    0.003820\n",
       "...        ...          ...       ...           ...         ...\n",
       "2899   11/4/22  3770.550049  0.425303  5.863258e+08    0.013619\n",
       "2900   11/7/22  3806.800049  0.449861  1.164755e+09    0.009614\n",
       "2901   11/8/22  3828.110107  0.438960  1.395167e+09    0.005598\n",
       "2902   11/9/22  3748.570068  0.457835  4.817286e+07   -0.020778\n",
       "2903  11/10/22  3956.370117  0.420308  3.748514e+09    0.055434\n",
       "\n",
       "[2904 rows x 5 columns]"
      ]
     },
     "execution_count": 69,
     "metadata": {},
     "output_type": "execute_result"
    }
   ],
   "source": [
    "gamma_dix_df"
   ]
  },
  {
   "cell_type": "code",
   "execution_count": 73,
   "id": "a16ea28f",
   "metadata": {},
   "outputs": [],
   "source": [
    "vix_df.to_csv('C:\\\\Users\\\\Drew Haggerty\\\\Desktop\\\\for_fun \\\\Vix.csv')"
   ]
  },
  {
   "cell_type": "code",
   "execution_count": 74,
   "id": "65f1b85c",
   "metadata": {},
   "outputs": [],
   "source": [
    "gamma_dix_df.to_csv('C:\\\\Users\\\\Drew Haggerty\\\\Desktop\\\\for_fun \\\\GammaDix.csv')"
   ]
  },
  {
   "cell_type": "code",
   "execution_count": 75,
   "id": "3404d00e",
   "metadata": {},
   "outputs": [
    {
     "data": {
      "text/html": [
       "<div>\n",
       "<style scoped>\n",
       "    .dataframe tbody tr th:only-of-type {\n",
       "        vertical-align: middle;\n",
       "    }\n",
       "\n",
       "    .dataframe tbody tr th {\n",
       "        vertical-align: top;\n",
       "    }\n",
       "\n",
       "    .dataframe thead th {\n",
       "        text-align: right;\n",
       "    }\n",
       "</style>\n",
       "<table border=\"1\" class=\"dataframe\">\n",
       "  <thead>\n",
       "    <tr style=\"text-align: right;\">\n",
       "      <th></th>\n",
       "      <th>Vix Previous Close</th>\n",
       "      <th>Vix 21 Moving Average</th>\n",
       "    </tr>\n",
       "    <tr>\n",
       "      <th>Date</th>\n",
       "      <th></th>\n",
       "      <th></th>\n",
       "    </tr>\n",
       "  </thead>\n",
       "  <tbody>\n",
       "    <tr>\n",
       "      <th>2011-05-02</th>\n",
       "      <td>NaN</td>\n",
       "      <td>NaN</td>\n",
       "    </tr>\n",
       "    <tr>\n",
       "      <th>2011-05-03</th>\n",
       "      <td>15.990000</td>\n",
       "      <td>NaN</td>\n",
       "    </tr>\n",
       "    <tr>\n",
       "      <th>2011-05-04</th>\n",
       "      <td>16.700001</td>\n",
       "      <td>NaN</td>\n",
       "    </tr>\n",
       "    <tr>\n",
       "      <th>2011-05-05</th>\n",
       "      <td>17.080000</td>\n",
       "      <td>NaN</td>\n",
       "    </tr>\n",
       "    <tr>\n",
       "      <th>2011-05-06</th>\n",
       "      <td>18.200001</td>\n",
       "      <td>NaN</td>\n",
       "    </tr>\n",
       "    <tr>\n",
       "      <th>...</th>\n",
       "      <td>...</td>\n",
       "      <td>...</td>\n",
       "    </tr>\n",
       "    <tr>\n",
       "      <th>2022-11-07</th>\n",
       "      <td>24.549999</td>\n",
       "      <td>28.875714</td>\n",
       "    </tr>\n",
       "    <tr>\n",
       "      <th>2022-11-08</th>\n",
       "      <td>24.350000</td>\n",
       "      <td>28.546667</td>\n",
       "    </tr>\n",
       "    <tr>\n",
       "      <th>2022-11-09</th>\n",
       "      <td>25.540001</td>\n",
       "      <td>28.187619</td>\n",
       "    </tr>\n",
       "    <tr>\n",
       "      <th>2022-11-10</th>\n",
       "      <td>26.090000</td>\n",
       "      <td>27.709524</td>\n",
       "    </tr>\n",
       "    <tr>\n",
       "      <th>2022-11-11</th>\n",
       "      <td>23.530001</td>\n",
       "      <td>27.268095</td>\n",
       "    </tr>\n",
       "  </tbody>\n",
       "</table>\n",
       "<p>2905 rows × 2 columns</p>\n",
       "</div>"
      ],
      "text/plain": [
       "            Vix Previous Close  Vix 21 Moving Average\n",
       "Date                                                 \n",
       "2011-05-02                 NaN                    NaN\n",
       "2011-05-03           15.990000                    NaN\n",
       "2011-05-04           16.700001                    NaN\n",
       "2011-05-05           17.080000                    NaN\n",
       "2011-05-06           18.200001                    NaN\n",
       "...                        ...                    ...\n",
       "2022-11-07           24.549999              28.875714\n",
       "2022-11-08           24.350000              28.546667\n",
       "2022-11-09           25.540001              28.187619\n",
       "2022-11-10           26.090000              27.709524\n",
       "2022-11-11           23.530001              27.268095\n",
       "\n",
       "[2905 rows x 2 columns]"
      ]
     },
     "execution_count": 75,
     "metadata": {},
     "output_type": "execute_result"
    }
   ],
   "source": [
    "vix_df"
   ]
  },
  {
   "cell_type": "code",
   "execution_count": 77,
   "id": "e9731877",
   "metadata": {},
   "outputs": [],
   "source": [
    "gamma_vix_df = pd.read_csv(\"GammaDixUpdate.csv\")"
   ]
  },
  {
   "cell_type": "code",
   "execution_count": 80,
   "id": "1c6f0f1f",
   "metadata": {},
   "outputs": [],
   "source": [
    "dix_previous_close = gamma_vix_df[\"dix\"].shift()"
   ]
  },
  {
   "cell_type": "code",
   "execution_count": 81,
   "id": "65bd97a4",
   "metadata": {},
   "outputs": [],
   "source": [
    "gamma_vix_df[\"DIX Previous Close\"] = dix_previous_close"
   ]
  },
  {
   "cell_type": "code",
   "execution_count": 83,
   "id": "fc52a83d",
   "metadata": {},
   "outputs": [],
   "source": [
    "gex_previous_close = gamma_dix_df[\"gex\"].shift()"
   ]
  },
  {
   "cell_type": "code",
   "execution_count": 84,
   "id": "13cafc37",
   "metadata": {},
   "outputs": [],
   "source": [
    "gamma_vix_df[\"GEX Previous Close\"] = gex_previous_close"
   ]
  },
  {
   "cell_type": "code",
   "execution_count": 87,
   "id": "328658ec",
   "metadata": {},
   "outputs": [],
   "source": [
    "gamma_vix_df.drop(columns=[\"dix\", \"gex\"], inplace=True)"
   ]
  },
  {
   "cell_type": "code",
   "execution_count": 90,
   "id": "e38b9e75",
   "metadata": {},
   "outputs": [],
   "source": [
    "gamma_vix_df.dropna(inplace=True)"
   ]
  },
  {
   "cell_type": "code",
   "execution_count": 91,
   "id": "f6856dbc",
   "metadata": {},
   "outputs": [
    {
     "data": {
      "text/html": [
       "<div>\n",
       "<style scoped>\n",
       "    .dataframe tbody tr th:only-of-type {\n",
       "        vertical-align: middle;\n",
       "    }\n",
       "\n",
       "    .dataframe tbody tr th {\n",
       "        vertical-align: top;\n",
       "    }\n",
       "\n",
       "    .dataframe thead th {\n",
       "        text-align: right;\n",
       "    }\n",
       "</style>\n",
       "<table border=\"1\" class=\"dataframe\">\n",
       "  <thead>\n",
       "    <tr style=\"text-align: right;\">\n",
       "      <th></th>\n",
       "      <th>date</th>\n",
       "      <th>price</th>\n",
       "      <th>Vix Previous Close</th>\n",
       "      <th>Vix 21 Moving Average</th>\n",
       "      <th>SPX Change</th>\n",
       "      <th>DIX Previous Close</th>\n",
       "      <th>GEX Previous Close</th>\n",
       "    </tr>\n",
       "  </thead>\n",
       "  <tbody>\n",
       "    <tr>\n",
       "      <th>20</th>\n",
       "      <td>5/31/11</td>\n",
       "      <td>1345.199951</td>\n",
       "      <td>15.980000</td>\n",
       "      <td>16.911429</td>\n",
       "      <td>0.010593</td>\n",
       "      <td>0.400935</td>\n",
       "      <td>9.186650e+08</td>\n",
       "    </tr>\n",
       "    <tr>\n",
       "      <th>21</th>\n",
       "      <td>6/1/11</td>\n",
       "      <td>1314.550049</td>\n",
       "      <td>15.450000</td>\n",
       "      <td>17.021429</td>\n",
       "      <td>-0.022785</td>\n",
       "      <td>0.402477</td>\n",
       "      <td>1.501019e+09</td>\n",
       "    </tr>\n",
       "    <tr>\n",
       "      <th>22</th>\n",
       "      <td>6/2/11</td>\n",
       "      <td>1312.939941</td>\n",
       "      <td>18.299999</td>\n",
       "      <td>17.087619</td>\n",
       "      <td>-0.001225</td>\n",
       "      <td>0.441582</td>\n",
       "      <td>7.654729e+08</td>\n",
       "    </tr>\n",
       "    <tr>\n",
       "      <th>23</th>\n",
       "      <td>6/3/11</td>\n",
       "      <td>1300.160034</td>\n",
       "      <td>18.090000</td>\n",
       "      <td>17.129048</td>\n",
       "      <td>-0.009734</td>\n",
       "      <td>0.413070</td>\n",
       "      <td>7.370545e+08</td>\n",
       "    </tr>\n",
       "    <tr>\n",
       "      <th>24</th>\n",
       "      <td>6/6/11</td>\n",
       "      <td>1286.170044</td>\n",
       "      <td>17.950001</td>\n",
       "      <td>17.142857</td>\n",
       "      <td>-0.010760</td>\n",
       "      <td>0.436110</td>\n",
       "      <td>4.059565e+08</td>\n",
       "    </tr>\n",
       "    <tr>\n",
       "      <th>...</th>\n",
       "      <td>...</td>\n",
       "      <td>...</td>\n",
       "      <td>...</td>\n",
       "      <td>...</td>\n",
       "      <td>...</td>\n",
       "      <td>...</td>\n",
       "      <td>...</td>\n",
       "    </tr>\n",
       "    <tr>\n",
       "      <th>2899</th>\n",
       "      <td>11/4/22</td>\n",
       "      <td>3770.550049</td>\n",
       "      <td>25.299999</td>\n",
       "      <td>29.209524</td>\n",
       "      <td>0.013619</td>\n",
       "      <td>0.442476</td>\n",
       "      <td>-6.368992e+08</td>\n",
       "    </tr>\n",
       "    <tr>\n",
       "      <th>2900</th>\n",
       "      <td>11/7/22</td>\n",
       "      <td>3806.800049</td>\n",
       "      <td>24.549999</td>\n",
       "      <td>28.875714</td>\n",
       "      <td>0.009614</td>\n",
       "      <td>0.425303</td>\n",
       "      <td>5.863258e+08</td>\n",
       "    </tr>\n",
       "    <tr>\n",
       "      <th>2901</th>\n",
       "      <td>11/8/22</td>\n",
       "      <td>3828.110107</td>\n",
       "      <td>24.350000</td>\n",
       "      <td>28.546667</td>\n",
       "      <td>0.005598</td>\n",
       "      <td>0.449861</td>\n",
       "      <td>1.164755e+09</td>\n",
       "    </tr>\n",
       "    <tr>\n",
       "      <th>2902</th>\n",
       "      <td>11/9/22</td>\n",
       "      <td>3748.570068</td>\n",
       "      <td>25.540001</td>\n",
       "      <td>28.187619</td>\n",
       "      <td>-0.020778</td>\n",
       "      <td>0.438960</td>\n",
       "      <td>1.395167e+09</td>\n",
       "    </tr>\n",
       "    <tr>\n",
       "      <th>2903</th>\n",
       "      <td>11/10/22</td>\n",
       "      <td>3956.370117</td>\n",
       "      <td>26.090000</td>\n",
       "      <td>27.709524</td>\n",
       "      <td>0.055434</td>\n",
       "      <td>0.457835</td>\n",
       "      <td>4.817286e+07</td>\n",
       "    </tr>\n",
       "  </tbody>\n",
       "</table>\n",
       "<p>2884 rows × 7 columns</p>\n",
       "</div>"
      ],
      "text/plain": [
       "          date        price  Vix Previous Close  Vix 21 Moving Average  \\\n",
       "20     5/31/11  1345.199951           15.980000              16.911429   \n",
       "21      6/1/11  1314.550049           15.450000              17.021429   \n",
       "22      6/2/11  1312.939941           18.299999              17.087619   \n",
       "23      6/3/11  1300.160034           18.090000              17.129048   \n",
       "24      6/6/11  1286.170044           17.950001              17.142857   \n",
       "...        ...          ...                 ...                    ...   \n",
       "2899   11/4/22  3770.550049           25.299999              29.209524   \n",
       "2900   11/7/22  3806.800049           24.549999              28.875714   \n",
       "2901   11/8/22  3828.110107           24.350000              28.546667   \n",
       "2902   11/9/22  3748.570068           25.540001              28.187619   \n",
       "2903  11/10/22  3956.370117           26.090000              27.709524   \n",
       "\n",
       "      SPX Change  DIX Previous Close  GEX Previous Close  \n",
       "20      0.010593            0.400935        9.186650e+08  \n",
       "21     -0.022785            0.402477        1.501019e+09  \n",
       "22     -0.001225            0.441582        7.654729e+08  \n",
       "23     -0.009734            0.413070        7.370545e+08  \n",
       "24     -0.010760            0.436110        4.059565e+08  \n",
       "...          ...                 ...                 ...  \n",
       "2899    0.013619            0.442476       -6.368992e+08  \n",
       "2900    0.009614            0.425303        5.863258e+08  \n",
       "2901    0.005598            0.449861        1.164755e+09  \n",
       "2902   -0.020778            0.438960        1.395167e+09  \n",
       "2903    0.055434            0.457835        4.817286e+07  \n",
       "\n",
       "[2884 rows x 7 columns]"
      ]
     },
     "execution_count": 91,
     "metadata": {},
     "output_type": "execute_result"
    }
   ],
   "source": [
    "gamma_vix_df"
   ]
  },
  {
   "cell_type": "code",
   "execution_count": 95,
   "id": "790102d2",
   "metadata": {},
   "outputs": [],
   "source": [
    "gamma_vix_df.drop(columns=[\"date\", \"price\"], inplace=True)"
   ]
  },
  {
   "cell_type": "code",
   "execution_count": 116,
   "id": "782d45fa",
   "metadata": {},
   "outputs": [],
   "source": [
    "spx_absolute_value = gamma_vix_df[\"SPX Change\"].abs()"
   ]
  },
  {
   "cell_type": "code",
   "execution_count": 117,
   "id": "fc204198",
   "metadata": {},
   "outputs": [],
   "source": [
    "gamma_vix_df[\"SPX Move\"] = spx_absolute_value"
   ]
  },
  {
   "cell_type": "code",
   "execution_count": 119,
   "id": "0720da00",
   "metadata": {},
   "outputs": [],
   "source": [
    "gamma_vix_df.drop(columns=[\"SPX Change\"], inplace=True)"
   ]
  },
  {
   "cell_type": "code",
   "execution_count": null,
   "id": "ca9e713b",
   "metadata": {},
   "outputs": [],
   "source": []
  },
  {
   "cell_type": "code",
   "execution_count": 96,
   "id": "e40a69ae",
   "metadata": {},
   "outputs": [],
   "source": [
    "from sklearn.model_selection import train_test_split\n",
    "from sklearn.preprocessing import StandardScaler"
   ]
  },
  {
   "cell_type": "code",
   "execution_count": 121,
   "id": "5b5bec80",
   "metadata": {},
   "outputs": [],
   "source": [
    "y = gamma_vix_df[\"SPX Move\"]\n",
    "X = gamma_vix_df.drop(columns=[\"SPX Move\"])"
   ]
  },
  {
   "cell_type": "code",
   "execution_count": 123,
   "id": "3101d1dc",
   "metadata": {},
   "outputs": [
    {
     "data": {
      "text/html": [
       "<div>\n",
       "<style scoped>\n",
       "    .dataframe tbody tr th:only-of-type {\n",
       "        vertical-align: middle;\n",
       "    }\n",
       "\n",
       "    .dataframe tbody tr th {\n",
       "        vertical-align: top;\n",
       "    }\n",
       "\n",
       "    .dataframe thead th {\n",
       "        text-align: right;\n",
       "    }\n",
       "</style>\n",
       "<table border=\"1\" class=\"dataframe\">\n",
       "  <thead>\n",
       "    <tr style=\"text-align: right;\">\n",
       "      <th></th>\n",
       "      <th>Vix Previous Close</th>\n",
       "      <th>Vix 21 Moving Average</th>\n",
       "      <th>DIX Previous Close</th>\n",
       "      <th>GEX Previous Close</th>\n",
       "    </tr>\n",
       "  </thead>\n",
       "  <tbody>\n",
       "    <tr>\n",
       "      <th>20</th>\n",
       "      <td>15.980000</td>\n",
       "      <td>16.911429</td>\n",
       "      <td>0.400935</td>\n",
       "      <td>9.186650e+08</td>\n",
       "    </tr>\n",
       "    <tr>\n",
       "      <th>21</th>\n",
       "      <td>15.450000</td>\n",
       "      <td>17.021429</td>\n",
       "      <td>0.402477</td>\n",
       "      <td>1.501019e+09</td>\n",
       "    </tr>\n",
       "    <tr>\n",
       "      <th>22</th>\n",
       "      <td>18.299999</td>\n",
       "      <td>17.087619</td>\n",
       "      <td>0.441582</td>\n",
       "      <td>7.654729e+08</td>\n",
       "    </tr>\n",
       "    <tr>\n",
       "      <th>23</th>\n",
       "      <td>18.090000</td>\n",
       "      <td>17.129048</td>\n",
       "      <td>0.413070</td>\n",
       "      <td>7.370545e+08</td>\n",
       "    </tr>\n",
       "    <tr>\n",
       "      <th>24</th>\n",
       "      <td>17.950001</td>\n",
       "      <td>17.142857</td>\n",
       "      <td>0.436110</td>\n",
       "      <td>4.059565e+08</td>\n",
       "    </tr>\n",
       "    <tr>\n",
       "      <th>...</th>\n",
       "      <td>...</td>\n",
       "      <td>...</td>\n",
       "      <td>...</td>\n",
       "      <td>...</td>\n",
       "    </tr>\n",
       "    <tr>\n",
       "      <th>2899</th>\n",
       "      <td>25.299999</td>\n",
       "      <td>29.209524</td>\n",
       "      <td>0.442476</td>\n",
       "      <td>-6.368992e+08</td>\n",
       "    </tr>\n",
       "    <tr>\n",
       "      <th>2900</th>\n",
       "      <td>24.549999</td>\n",
       "      <td>28.875714</td>\n",
       "      <td>0.425303</td>\n",
       "      <td>5.863258e+08</td>\n",
       "    </tr>\n",
       "    <tr>\n",
       "      <th>2901</th>\n",
       "      <td>24.350000</td>\n",
       "      <td>28.546667</td>\n",
       "      <td>0.449861</td>\n",
       "      <td>1.164755e+09</td>\n",
       "    </tr>\n",
       "    <tr>\n",
       "      <th>2902</th>\n",
       "      <td>25.540001</td>\n",
       "      <td>28.187619</td>\n",
       "      <td>0.438960</td>\n",
       "      <td>1.395167e+09</td>\n",
       "    </tr>\n",
       "    <tr>\n",
       "      <th>2903</th>\n",
       "      <td>26.090000</td>\n",
       "      <td>27.709524</td>\n",
       "      <td>0.457835</td>\n",
       "      <td>4.817286e+07</td>\n",
       "    </tr>\n",
       "  </tbody>\n",
       "</table>\n",
       "<p>2884 rows × 4 columns</p>\n",
       "</div>"
      ],
      "text/plain": [
       "      Vix Previous Close  Vix 21 Moving Average  DIX Previous Close  \\\n",
       "20             15.980000              16.911429            0.400935   \n",
       "21             15.450000              17.021429            0.402477   \n",
       "22             18.299999              17.087619            0.441582   \n",
       "23             18.090000              17.129048            0.413070   \n",
       "24             17.950001              17.142857            0.436110   \n",
       "...                  ...                    ...                 ...   \n",
       "2899           25.299999              29.209524            0.442476   \n",
       "2900           24.549999              28.875714            0.425303   \n",
       "2901           24.350000              28.546667            0.449861   \n",
       "2902           25.540001              28.187619            0.438960   \n",
       "2903           26.090000              27.709524            0.457835   \n",
       "\n",
       "      GEX Previous Close  \n",
       "20          9.186650e+08  \n",
       "21          1.501019e+09  \n",
       "22          7.654729e+08  \n",
       "23          7.370545e+08  \n",
       "24          4.059565e+08  \n",
       "...                  ...  \n",
       "2899       -6.368992e+08  \n",
       "2900        5.863258e+08  \n",
       "2901        1.164755e+09  \n",
       "2902        1.395167e+09  \n",
       "2903        4.817286e+07  \n",
       "\n",
       "[2884 rows x 4 columns]"
      ]
     },
     "execution_count": 123,
     "metadata": {},
     "output_type": "execute_result"
    }
   ],
   "source": [
    "X"
   ]
  },
  {
   "cell_type": "code",
   "execution_count": 124,
   "id": "5f421f58",
   "metadata": {},
   "outputs": [],
   "source": [
    "X_train, X_test, y_train, y_test = train_test_split(X,y,random_state=1)"
   ]
  },
  {
   "cell_type": "code",
   "execution_count": 125,
   "id": "4294c160",
   "metadata": {},
   "outputs": [],
   "source": [
    "scaler = StandardScaler()"
   ]
  },
  {
   "cell_type": "code",
   "execution_count": 126,
   "id": "5af3d84f",
   "metadata": {},
   "outputs": [],
   "source": [
    "X_scaler = scaler.fit(X_train)\n",
    "X_train_scaled = X_scaler.transform(X_train)\n",
    "X_test_scaled = X_scaler.transform(X_test)"
   ]
  },
  {
   "cell_type": "code",
   "execution_count": 127,
   "id": "1ac54349",
   "metadata": {},
   "outputs": [],
   "source": [
    "from sklearn.ensemble import RandomForestRegressor"
   ]
  },
  {
   "cell_type": "code",
   "execution_count": 128,
   "id": "c6f5fc29",
   "metadata": {},
   "outputs": [],
   "source": [
    "model = RandomForestRegressor()"
   ]
  },
  {
   "cell_type": "code",
   "execution_count": 129,
   "id": "2fd0e59a",
   "metadata": {},
   "outputs": [
    {
     "data": {
      "text/html": [
       "<style>#sk-container-id-2 {color: black;background-color: white;}#sk-container-id-2 pre{padding: 0;}#sk-container-id-2 div.sk-toggleable {background-color: white;}#sk-container-id-2 label.sk-toggleable__label {cursor: pointer;display: block;width: 100%;margin-bottom: 0;padding: 0.3em;box-sizing: border-box;text-align: center;}#sk-container-id-2 label.sk-toggleable__label-arrow:before {content: \"▸\";float: left;margin-right: 0.25em;color: #696969;}#sk-container-id-2 label.sk-toggleable__label-arrow:hover:before {color: black;}#sk-container-id-2 div.sk-estimator:hover label.sk-toggleable__label-arrow:before {color: black;}#sk-container-id-2 div.sk-toggleable__content {max-height: 0;max-width: 0;overflow: hidden;text-align: left;background-color: #f0f8ff;}#sk-container-id-2 div.sk-toggleable__content pre {margin: 0.2em;color: black;border-radius: 0.25em;background-color: #f0f8ff;}#sk-container-id-2 input.sk-toggleable__control:checked~div.sk-toggleable__content {max-height: 200px;max-width: 100%;overflow: auto;}#sk-container-id-2 input.sk-toggleable__control:checked~label.sk-toggleable__label-arrow:before {content: \"▾\";}#sk-container-id-2 div.sk-estimator input.sk-toggleable__control:checked~label.sk-toggleable__label {background-color: #d4ebff;}#sk-container-id-2 div.sk-label input.sk-toggleable__control:checked~label.sk-toggleable__label {background-color: #d4ebff;}#sk-container-id-2 input.sk-hidden--visually {border: 0;clip: rect(1px 1px 1px 1px);clip: rect(1px, 1px, 1px, 1px);height: 1px;margin: -1px;overflow: hidden;padding: 0;position: absolute;width: 1px;}#sk-container-id-2 div.sk-estimator {font-family: monospace;background-color: #f0f8ff;border: 1px dotted black;border-radius: 0.25em;box-sizing: border-box;margin-bottom: 0.5em;}#sk-container-id-2 div.sk-estimator:hover {background-color: #d4ebff;}#sk-container-id-2 div.sk-parallel-item::after {content: \"\";width: 100%;border-bottom: 1px solid gray;flex-grow: 1;}#sk-container-id-2 div.sk-label:hover label.sk-toggleable__label {background-color: #d4ebff;}#sk-container-id-2 div.sk-serial::before {content: \"\";position: absolute;border-left: 1px solid gray;box-sizing: border-box;top: 0;bottom: 0;left: 50%;z-index: 0;}#sk-container-id-2 div.sk-serial {display: flex;flex-direction: column;align-items: center;background-color: white;padding-right: 0.2em;padding-left: 0.2em;position: relative;}#sk-container-id-2 div.sk-item {position: relative;z-index: 1;}#sk-container-id-2 div.sk-parallel {display: flex;align-items: stretch;justify-content: center;background-color: white;position: relative;}#sk-container-id-2 div.sk-item::before, #sk-container-id-2 div.sk-parallel-item::before {content: \"\";position: absolute;border-left: 1px solid gray;box-sizing: border-box;top: 0;bottom: 0;left: 50%;z-index: -1;}#sk-container-id-2 div.sk-parallel-item {display: flex;flex-direction: column;z-index: 1;position: relative;background-color: white;}#sk-container-id-2 div.sk-parallel-item:first-child::after {align-self: flex-end;width: 50%;}#sk-container-id-2 div.sk-parallel-item:last-child::after {align-self: flex-start;width: 50%;}#sk-container-id-2 div.sk-parallel-item:only-child::after {width: 0;}#sk-container-id-2 div.sk-dashed-wrapped {border: 1px dashed gray;margin: 0 0.4em 0.5em 0.4em;box-sizing: border-box;padding-bottom: 0.4em;background-color: white;}#sk-container-id-2 div.sk-label label {font-family: monospace;font-weight: bold;display: inline-block;line-height: 1.2em;}#sk-container-id-2 div.sk-label-container {text-align: center;}#sk-container-id-2 div.sk-container {/* jupyter's `normalize.less` sets `[hidden] { display: none; }` but bootstrap.min.css set `[hidden] { display: none !important; }` so we also need the `!important` here to be able to override the default hidden behavior on the sphinx rendered scikit-learn.org. See: https://github.com/scikit-learn/scikit-learn/issues/21755 */display: inline-block !important;position: relative;}#sk-container-id-2 div.sk-text-repr-fallback {display: none;}</style><div id=\"sk-container-id-2\" class=\"sk-top-container\"><div class=\"sk-text-repr-fallback\"><pre>RandomForestRegressor()</pre><b>In a Jupyter environment, please rerun this cell to show the HTML representation or trust the notebook. <br />On GitHub, the HTML representation is unable to render, please try loading this page with nbviewer.org.</b></div><div class=\"sk-container\" hidden><div class=\"sk-item\"><div class=\"sk-estimator sk-toggleable\"><input class=\"sk-toggleable__control sk-hidden--visually\" id=\"sk-estimator-id-2\" type=\"checkbox\" checked><label for=\"sk-estimator-id-2\" class=\"sk-toggleable__label sk-toggleable__label-arrow\">RandomForestRegressor</label><div class=\"sk-toggleable__content\"><pre>RandomForestRegressor()</pre></div></div></div></div></div>"
      ],
      "text/plain": [
       "RandomForestRegressor()"
      ]
     },
     "execution_count": 129,
     "metadata": {},
     "output_type": "execute_result"
    }
   ],
   "source": [
    "model.fit(X_train,y_train)"
   ]
  },
  {
   "cell_type": "code",
   "execution_count": 130,
   "id": "5ee5ee3a",
   "metadata": {},
   "outputs": [],
   "source": [
    "y_pred = model.predict(X_test)"
   ]
  },
  {
   "cell_type": "code",
   "execution_count": 131,
   "id": "6764c664",
   "metadata": {},
   "outputs": [
    {
     "data": {
      "text/plain": [
       "0.7461028627247066"
      ]
     },
     "execution_count": 131,
     "metadata": {},
     "output_type": "execute_result"
    }
   ],
   "source": [
    "model.score(X,y)"
   ]
  },
  {
   "cell_type": "code",
   "execution_count": 132,
   "id": "a57c513b",
   "metadata": {},
   "outputs": [],
   "source": [
    "importances_names = model.feature_names_in_"
   ]
  },
  {
   "cell_type": "code",
   "execution_count": 133,
   "id": "6b040711",
   "metadata": {},
   "outputs": [],
   "source": [
    "importances=model.feature_importances_"
   ]
  },
  {
   "cell_type": "code",
   "execution_count": 134,
   "id": "6e01c445",
   "metadata": {},
   "outputs": [],
   "source": [
    "importances_df = pd.DataFrame(importances,importances_names)"
   ]
  },
  {
   "cell_type": "code",
   "execution_count": 135,
   "id": "f403668f",
   "metadata": {},
   "outputs": [
    {
     "data": {
      "text/html": [
       "<div>\n",
       "<style scoped>\n",
       "    .dataframe tbody tr th:only-of-type {\n",
       "        vertical-align: middle;\n",
       "    }\n",
       "\n",
       "    .dataframe tbody tr th {\n",
       "        vertical-align: top;\n",
       "    }\n",
       "\n",
       "    .dataframe thead th {\n",
       "        text-align: right;\n",
       "    }\n",
       "</style>\n",
       "<table border=\"1\" class=\"dataframe\">\n",
       "  <thead>\n",
       "    <tr style=\"text-align: right;\">\n",
       "      <th></th>\n",
       "      <th>0</th>\n",
       "    </tr>\n",
       "  </thead>\n",
       "  <tbody>\n",
       "    <tr>\n",
       "      <th>Vix Previous Close</th>\n",
       "      <td>0.489166</td>\n",
       "    </tr>\n",
       "    <tr>\n",
       "      <th>GEX Previous Close</th>\n",
       "      <td>0.209134</td>\n",
       "    </tr>\n",
       "    <tr>\n",
       "      <th>Vix 21 Moving Average</th>\n",
       "      <td>0.156060</td>\n",
       "    </tr>\n",
       "    <tr>\n",
       "      <th>DIX Previous Close</th>\n",
       "      <td>0.145639</td>\n",
       "    </tr>\n",
       "  </tbody>\n",
       "</table>\n",
       "</div>"
      ],
      "text/plain": [
       "                              0\n",
       "Vix Previous Close     0.489166\n",
       "GEX Previous Close     0.209134\n",
       "Vix 21 Moving Average  0.156060\n",
       "DIX Previous Close     0.145639"
      ]
     },
     "execution_count": 135,
     "metadata": {},
     "output_type": "execute_result"
    }
   ],
   "source": [
    "importances_df.sort_values(by=0, ascending=False)"
   ]
  },
  {
   "cell_type": "code",
   "execution_count": 136,
   "id": "272cc887",
   "metadata": {},
   "outputs": [
    {
     "data": {
      "text/plain": [
       "<AxesSubplot:>"
      ]
     },
     "execution_count": 136,
     "metadata": {},
     "output_type": "execute_result"
    },
    {
     "data": {
      "image/png": "[encoded data removed]",
      "text/plain": [
       "<Figure size 432x288 with 1 Axes>"
      ]
     },
     "metadata": {
      "needs_background": "light"
     },
     "output_type": "display_data"
    }
   ],
   "source": [
    "importances_df.sort_values(by = 0, ascending=False).plot(kind = \"bar\")"
   ]
  },
  {
   "cell_type": "code",
   "execution_count": null,
   "id": "b3cc4f3f",
   "metadata": {},
   "outputs": [],
   "source": []
  },
  {
   "cell_type": "code",
   "execution_count": 143,
   "id": "bf2a5e96",
   "metadata": {},
   "outputs": [],
   "source": [
    "gex_spx_df = gamma_vix_df.drop(columns=[\"Vix Previous Close\", \"Vix 21 Moving Average\", \"DIX Previous Close\"])"
   ]
  },
  {
   "cell_type": "code",
   "execution_count": 160,
   "id": "e4f92820",
   "metadata": {},
   "outputs": [
    {
     "data": {
      "text/html": [
       "<div>\n",
       "<style scoped>\n",
       "    .dataframe tbody tr th:only-of-type {\n",
       "        vertical-align: middle;\n",
       "    }\n",
       "\n",
       "    .dataframe tbody tr th {\n",
       "        vertical-align: top;\n",
       "    }\n",
       "\n",
       "    .dataframe thead th {\n",
       "        text-align: right;\n",
       "    }\n",
       "</style>\n",
       "<table border=\"1\" class=\"dataframe\">\n",
       "  <thead>\n",
       "    <tr style=\"text-align: right;\">\n",
       "      <th></th>\n",
       "      <th>GEX Previous Close</th>\n",
       "      <th>SPX Move</th>\n",
       "    </tr>\n",
       "  </thead>\n",
       "  <tbody>\n",
       "    <tr>\n",
       "      <th>20</th>\n",
       "      <td>9.186650e+08</td>\n",
       "      <td>0.010593</td>\n",
       "    </tr>\n",
       "    <tr>\n",
       "      <th>21</th>\n",
       "      <td>1.501019e+09</td>\n",
       "      <td>0.022785</td>\n",
       "    </tr>\n",
       "    <tr>\n",
       "      <th>22</th>\n",
       "      <td>7.654729e+08</td>\n",
       "      <td>0.001225</td>\n",
       "    </tr>\n",
       "    <tr>\n",
       "      <th>23</th>\n",
       "      <td>7.370545e+08</td>\n",
       "      <td>0.009734</td>\n",
       "    </tr>\n",
       "    <tr>\n",
       "      <th>24</th>\n",
       "      <td>4.059565e+08</td>\n",
       "      <td>0.010760</td>\n",
       "    </tr>\n",
       "    <tr>\n",
       "      <th>...</th>\n",
       "      <td>...</td>\n",
       "      <td>...</td>\n",
       "    </tr>\n",
       "    <tr>\n",
       "      <th>2899</th>\n",
       "      <td>-6.368992e+08</td>\n",
       "      <td>0.013619</td>\n",
       "    </tr>\n",
       "    <tr>\n",
       "      <th>2900</th>\n",
       "      <td>5.863258e+08</td>\n",
       "      <td>0.009614</td>\n",
       "    </tr>\n",
       "    <tr>\n",
       "      <th>2901</th>\n",
       "      <td>1.164755e+09</td>\n",
       "      <td>0.005598</td>\n",
       "    </tr>\n",
       "    <tr>\n",
       "      <th>2902</th>\n",
       "      <td>1.395167e+09</td>\n",
       "      <td>0.020778</td>\n",
       "    </tr>\n",
       "    <tr>\n",
       "      <th>2903</th>\n",
       "      <td>4.817286e+07</td>\n",
       "      <td>0.055434</td>\n",
       "    </tr>\n",
       "  </tbody>\n",
       "</table>\n",
       "<p>2884 rows × 2 columns</p>\n",
       "</div>"
      ],
      "text/plain": [
       "      GEX Previous Close  SPX Move\n",
       "20          9.186650e+08  0.010593\n",
       "21          1.501019e+09  0.022785\n",
       "22          7.654729e+08  0.001225\n",
       "23          7.370545e+08  0.009734\n",
       "24          4.059565e+08  0.010760\n",
       "...                  ...       ...\n",
       "2899       -6.368992e+08  0.013619\n",
       "2900        5.863258e+08  0.009614\n",
       "2901        1.164755e+09  0.005598\n",
       "2902        1.395167e+09  0.020778\n",
       "2903        4.817286e+07  0.055434\n",
       "\n",
       "[2884 rows x 2 columns]"
      ]
     },
     "execution_count": 160,
     "metadata": {},
     "output_type": "execute_result"
    }
   ],
   "source": [
    "gex_spx_df"
   ]
  },
  {
   "cell_type": "code",
   "execution_count": 161,
   "id": "04b36ec1",
   "metadata": {},
   "outputs": [],
   "source": [
    "y = gex_spx_df[\"SPX Move\"]"
   ]
  },
  {
   "cell_type": "code",
   "execution_count": 162,
   "id": "165014ee",
   "metadata": {},
   "outputs": [],
   "source": [
    "X = gex_spx_df[\"GEX Previous Close\"]"
   ]
  },
  {
   "cell_type": "code",
   "execution_count": null,
   "id": "f21e4b87",
   "metadata": {},
   "outputs": [],
   "source": []
  },
  {
   "cell_type": "code",
   "execution_count": 157,
   "id": "d9200b1c",
   "metadata": {},
   "outputs": [],
   "source": [
    "from sklearn.preprocessing import PolynomialFeatures"
   ]
  },
  {
   "cell_type": "code",
   "execution_count": 159,
   "id": "e55f16d9",
   "metadata": {},
   "outputs": [],
   "source": [
    "poly_features = PolynomialFeatures(degree=2, include_bias=False)"
   ]
  },
  {
   "cell_type": "code",
   "execution_count": 164,
   "id": "9dd7dc34",
   "metadata": {},
   "outputs": [],
   "source": [
    "X_poly = poly_features.fit_transform(gex_spx_df)"
   ]
  },
  {
   "cell_type": "code",
   "execution_count": null,
   "id": "afd7cbd7",
   "metadata": {},
   "outputs": [],
   "source": [
    "X_vals_poly = "
   ]
  }
 ],
 "metadata": {
  "kernelspec": {
   "display_name": "Python 3 (ipykernel)",
   "language": "python",
   "name": "python3"
  },
  "language_info": {
   "codemirror_mode": {
    "name": "ipython",
    "version": 3
   },
   "file_extension": ".py",
   "mimetype": "text/x-python",
   "name": "python",
   "nbconvert_exporter": "python",
   "pygments_lexer": "ipython3",
   "version": "3.9.12"
  }
 },
 "nbformat": 4,
 "nbformat_minor": 5
}
